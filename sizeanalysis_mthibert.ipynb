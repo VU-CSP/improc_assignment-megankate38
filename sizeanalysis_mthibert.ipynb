{
  "cells": [
    {
      "cell_type": "markdown",
      "metadata": {
        "id": "view-in-github",
        "colab_type": "text"
      },
      "source": [
        "<a href=\"https://colab.research.google.com/github/VU-CSP/improc_assignment-megankate38/blob/main/sizeanalysis_mthibert.ipynb\" target=\"_parent\"><img src=\"https://colab.research.google.com/assets/colab-badge.svg\" alt=\"Open In Colab\"/></a>"
      ]
    },
    {
      "cell_type": "markdown",
      "metadata": {
        "id": "uM3giKLgbwgF"
      },
      "source": [
        "# Analysis of the particle sizes from segmentation output\n",
        "You should have an output file named `Results.csv` from FIJI/ImageJ segmentation. If you are using Google Colab to run this code, you will need to upload the file manually to Google using the `File` menu to the left.  "
      ]
    },
    {
      "cell_type": "code",
      "execution_count": 2,
      "metadata": {
        "id": "GTIhuJXYbva8"
      },
      "outputs": [],
      "source": [
        "import pandas as pd\n",
        "import numpy as np\n",
        "import seaborn as sns \n",
        "import matplotlib.pyplot as plt "
      ]
    },
    {
      "cell_type": "markdown",
      "metadata": {
        "id": "mBObqOWmh2Zf"
      },
      "source": [
        "Write code below to read the `Results.csv` file as a pandas DataFrame and store it in the object named `measurements`. Show the head of the DataFrame."
      ]
    },
    {
      "cell_type": "code",
      "execution_count": 5,
      "metadata": {
        "id": "DaYDPgcogyxz"
      },
      "outputs": [],
      "source": [
        "df=pd.read_csv('Results.csv')\n"
      ]
    },
    {
      "cell_type": "code",
      "source": [
        "df"
      ],
      "metadata": {
        "id": "2Y05Y_JIX1kW",
        "outputId": "b371795d-d801-487a-ea4b-9322b2518ade",
        "colab": {
          "base_uri": "https://localhost:8080/",
          "height": 424
        }
      },
      "execution_count": 6,
      "outputs": [
        {
          "output_type": "execute_result",
          "data": {
            "text/plain": [
              "            Area      Mean   Min    Max\n",
              "0        1   443  5088.156  3382   6816\n",
              "1        2   290  4619.883  3409   6133\n",
              "2        3   361  4412.784  3383   5794\n",
              "3        4   466  4382.142  3382   5724\n",
              "4        5   306  4510.882  3386   5891\n",
              "...    ...   ...       ...   ...    ...\n",
              "1412  1413   483  8471.656  3385  19178\n",
              "1413  1414   421  5151.998  3389   6666\n",
              "1414  1415   303  5644.944  3398   7937\n",
              "1415  1416   338  5157.337  3433   6728\n",
              "1416  1417   291  6155.608  3397  10026\n",
              "\n",
              "[1417 rows x 5 columns]"
            ],
            "text/html": [
              "\n",
              "  <div id=\"df-fbe42598-b754-4901-b9a7-e6ccb73924ec\">\n",
              "    <div class=\"colab-df-container\">\n",
              "      <div>\n",
              "<style scoped>\n",
              "    .dataframe tbody tr th:only-of-type {\n",
              "        vertical-align: middle;\n",
              "    }\n",
              "\n",
              "    .dataframe tbody tr th {\n",
              "        vertical-align: top;\n",
              "    }\n",
              "\n",
              "    .dataframe thead th {\n",
              "        text-align: right;\n",
              "    }\n",
              "</style>\n",
              "<table border=\"1\" class=\"dataframe\">\n",
              "  <thead>\n",
              "    <tr style=\"text-align: right;\">\n",
              "      <th></th>\n",
              "      <th></th>\n",
              "      <th>Area</th>\n",
              "      <th>Mean</th>\n",
              "      <th>Min</th>\n",
              "      <th>Max</th>\n",
              "    </tr>\n",
              "  </thead>\n",
              "  <tbody>\n",
              "    <tr>\n",
              "      <th>0</th>\n",
              "      <td>1</td>\n",
              "      <td>443</td>\n",
              "      <td>5088.156</td>\n",
              "      <td>3382</td>\n",
              "      <td>6816</td>\n",
              "    </tr>\n",
              "    <tr>\n",
              "      <th>1</th>\n",
              "      <td>2</td>\n",
              "      <td>290</td>\n",
              "      <td>4619.883</td>\n",
              "      <td>3409</td>\n",
              "      <td>6133</td>\n",
              "    </tr>\n",
              "    <tr>\n",
              "      <th>2</th>\n",
              "      <td>3</td>\n",
              "      <td>361</td>\n",
              "      <td>4412.784</td>\n",
              "      <td>3383</td>\n",
              "      <td>5794</td>\n",
              "    </tr>\n",
              "    <tr>\n",
              "      <th>3</th>\n",
              "      <td>4</td>\n",
              "      <td>466</td>\n",
              "      <td>4382.142</td>\n",
              "      <td>3382</td>\n",
              "      <td>5724</td>\n",
              "    </tr>\n",
              "    <tr>\n",
              "      <th>4</th>\n",
              "      <td>5</td>\n",
              "      <td>306</td>\n",
              "      <td>4510.882</td>\n",
              "      <td>3386</td>\n",
              "      <td>5891</td>\n",
              "    </tr>\n",
              "    <tr>\n",
              "      <th>...</th>\n",
              "      <td>...</td>\n",
              "      <td>...</td>\n",
              "      <td>...</td>\n",
              "      <td>...</td>\n",
              "      <td>...</td>\n",
              "    </tr>\n",
              "    <tr>\n",
              "      <th>1412</th>\n",
              "      <td>1413</td>\n",
              "      <td>483</td>\n",
              "      <td>8471.656</td>\n",
              "      <td>3385</td>\n",
              "      <td>19178</td>\n",
              "    </tr>\n",
              "    <tr>\n",
              "      <th>1413</th>\n",
              "      <td>1414</td>\n",
              "      <td>421</td>\n",
              "      <td>5151.998</td>\n",
              "      <td>3389</td>\n",
              "      <td>6666</td>\n",
              "    </tr>\n",
              "    <tr>\n",
              "      <th>1414</th>\n",
              "      <td>1415</td>\n",
              "      <td>303</td>\n",
              "      <td>5644.944</td>\n",
              "      <td>3398</td>\n",
              "      <td>7937</td>\n",
              "    </tr>\n",
              "    <tr>\n",
              "      <th>1415</th>\n",
              "      <td>1416</td>\n",
              "      <td>338</td>\n",
              "      <td>5157.337</td>\n",
              "      <td>3433</td>\n",
              "      <td>6728</td>\n",
              "    </tr>\n",
              "    <tr>\n",
              "      <th>1416</th>\n",
              "      <td>1417</td>\n",
              "      <td>291</td>\n",
              "      <td>6155.608</td>\n",
              "      <td>3397</td>\n",
              "      <td>10026</td>\n",
              "    </tr>\n",
              "  </tbody>\n",
              "</table>\n",
              "<p>1417 rows × 5 columns</p>\n",
              "</div>\n",
              "      <button class=\"colab-df-convert\" onclick=\"convertToInteractive('df-fbe42598-b754-4901-b9a7-e6ccb73924ec')\"\n",
              "              title=\"Convert this dataframe to an interactive table.\"\n",
              "              style=\"display:none;\">\n",
              "        \n",
              "  <svg xmlns=\"http://www.w3.org/2000/svg\" height=\"24px\"viewBox=\"0 0 24 24\"\n",
              "       width=\"24px\">\n",
              "    <path d=\"M0 0h24v24H0V0z\" fill=\"none\"/>\n",
              "    <path d=\"M18.56 5.44l.94 2.06.94-2.06 2.06-.94-2.06-.94-.94-2.06-.94 2.06-2.06.94zm-11 1L8.5 8.5l.94-2.06 2.06-.94-2.06-.94L8.5 2.5l-.94 2.06-2.06.94zm10 10l.94 2.06.94-2.06 2.06-.94-2.06-.94-.94-2.06-.94 2.06-2.06.94z\"/><path d=\"M17.41 7.96l-1.37-1.37c-.4-.4-.92-.59-1.43-.59-.52 0-1.04.2-1.43.59L10.3 9.45l-7.72 7.72c-.78.78-.78 2.05 0 2.83L4 21.41c.39.39.9.59 1.41.59.51 0 1.02-.2 1.41-.59l7.78-7.78 2.81-2.81c.8-.78.8-2.07 0-2.86zM5.41 20L4 18.59l7.72-7.72 1.47 1.35L5.41 20z\"/>\n",
              "  </svg>\n",
              "      </button>\n",
              "      \n",
              "  <style>\n",
              "    .colab-df-container {\n",
              "      display:flex;\n",
              "      flex-wrap:wrap;\n",
              "      gap: 12px;\n",
              "    }\n",
              "\n",
              "    .colab-df-convert {\n",
              "      background-color: #E8F0FE;\n",
              "      border: none;\n",
              "      border-radius: 50%;\n",
              "      cursor: pointer;\n",
              "      display: none;\n",
              "      fill: #1967D2;\n",
              "      height: 32px;\n",
              "      padding: 0 0 0 0;\n",
              "      width: 32px;\n",
              "    }\n",
              "\n",
              "    .colab-df-convert:hover {\n",
              "      background-color: #E2EBFA;\n",
              "      box-shadow: 0px 1px 2px rgba(60, 64, 67, 0.3), 0px 1px 3px 1px rgba(60, 64, 67, 0.15);\n",
              "      fill: #174EA6;\n",
              "    }\n",
              "\n",
              "    [theme=dark] .colab-df-convert {\n",
              "      background-color: #3B4455;\n",
              "      fill: #D2E3FC;\n",
              "    }\n",
              "\n",
              "    [theme=dark] .colab-df-convert:hover {\n",
              "      background-color: #434B5C;\n",
              "      box-shadow: 0px 1px 3px 1px rgba(0, 0, 0, 0.15);\n",
              "      filter: drop-shadow(0px 1px 2px rgba(0, 0, 0, 0.3));\n",
              "      fill: #FFFFFF;\n",
              "    }\n",
              "  </style>\n",
              "\n",
              "      <script>\n",
              "        const buttonEl =\n",
              "          document.querySelector('#df-fbe42598-b754-4901-b9a7-e6ccb73924ec button.colab-df-convert');\n",
              "        buttonEl.style.display =\n",
              "          google.colab.kernel.accessAllowed ? 'block' : 'none';\n",
              "\n",
              "        async function convertToInteractive(key) {\n",
              "          const element = document.querySelector('#df-fbe42598-b754-4901-b9a7-e6ccb73924ec');\n",
              "          const dataTable =\n",
              "            await google.colab.kernel.invokeFunction('convertToInteractive',\n",
              "                                                     [key], {});\n",
              "          if (!dataTable) return;\n",
              "\n",
              "          const docLinkHtml = 'Like what you see? Visit the ' +\n",
              "            '<a target=\"_blank\" href=https://colab.research.google.com/notebooks/data_table.ipynb>data table notebook</a>'\n",
              "            + ' to learn more about interactive tables.';\n",
              "          element.innerHTML = '';\n",
              "          dataTable['output_type'] = 'display_data';\n",
              "          await google.colab.output.renderOutput(dataTable, element);\n",
              "          const docLink = document.createElement('div');\n",
              "          docLink.innerHTML = docLinkHtml;\n",
              "          element.appendChild(docLink);\n",
              "        }\n",
              "      </script>\n",
              "    </div>\n",
              "  </div>\n",
              "  "
            ]
          },
          "metadata": {},
          "execution_count": 6
        }
      ]
    },
    {
      "cell_type": "code",
      "execution_count": 12,
      "metadata": {
        "id": "Mz-INH79g5Ks",
        "outputId": "bacf22cc-80b1-49f7-d6a8-3ec3299c4d3f",
        "colab": {
          "base_uri": "https://localhost:8080/",
          "height": 456
        }
      },
      "outputs": [
        {
          "output_type": "execute_result",
          "data": {
            "text/plain": [
              "(array([ 5.,  5.,  2.,  7.,  4.,  6.,  6.,  7., 13., 16., 18., 34., 34.,\n",
              "        58., 75., 66., 90., 95., 67., 90., 62., 37., 54., 65., 56., 41.,\n",
              "        42., 42., 29., 32., 34., 35., 24., 29., 19., 24., 21., 21., 29.,\n",
              "        23.]),\n",
              " array([151.   , 159.725, 168.45 , 177.175, 185.9  , 194.625, 203.35 ,\n",
              "        212.075, 220.8  , 229.525, 238.25 , 246.975, 255.7  , 264.425,\n",
              "        273.15 , 281.875, 290.6  , 299.325, 308.05 , 316.775, 325.5  ,\n",
              "        334.225, 342.95 , 351.675, 360.4  , 369.125, 377.85 , 386.575,\n",
              "        395.3  , 404.025, 412.75 , 421.475, 430.2  , 438.925, 447.65 ,\n",
              "        456.375, 465.1  , 473.825, 482.55 , 491.275, 500.   ]),\n",
              " <BarContainer object of 40 artists>)"
            ]
          },
          "metadata": {},
          "execution_count": 12
        },
        {
          "output_type": "display_data",
          "data": {
            "text/plain": [
              "<Figure size 432x288 with 1 Axes>"
            ],
            "image/png": "[encoded data removed]"
          },
          "metadata": {
            "needs_background": "light"
          }
        }
      ],
      "source": [
        "plt.hist(df[\"Area\"], bins=40)"
      ]
    },
    {
      "cell_type": "markdown",
      "metadata": {
        "id": "ZtcMHckuiydC"
      },
      "source": [
        "Calculate the mean and the standard deviation of the distribution and show them below. (HINT: pandas can do this easily)"
      ]
    },
    {
      "cell_type": "code",
      "execution_count": 13,
      "metadata": {
        "id": "T9lYcgiBhxUE",
        "outputId": "5a10ea8c-86fc-447b-d501-8356a594951c",
        "colab": {
          "base_uri": "https://localhost:8080/"
        }
      },
      "outputs": [
        {
          "output_type": "stream",
          "name": "stdout",
          "text": [
            "         709.000000\n",
            "Area     340.318984\n",
            "Mean    5153.239318\n",
            "Min     3396.501059\n",
            "Max     7187.458010\n",
            "dtype: float64\n"
          ]
        }
      ],
      "source": [
        "# Calculate mean\n",
        "print(df.mean())"
      ]
    },
    {
      "cell_type": "code",
      "execution_count": 14,
      "metadata": {
        "id": "UEgg0XZdi_76",
        "outputId": "0d0c2aa0-aca1-40d9-8274-5c6da52d635a",
        "colab": {
          "base_uri": "https://localhost:8080/"
        }
      },
      "outputs": [
        {
          "output_type": "stream",
          "name": "stdout",
          "text": [
            "         409.196978\n",
            "Area      71.323158\n",
            "Mean    1179.941195\n",
            "Min       17.159855\n",
            "Max     2834.146456\n",
            "dtype: float64\n"
          ]
        }
      ],
      "source": [
        "# Calculate standard deviation\n",
        "print(df.std())"
      ]
    },
    {
      "cell_type": "markdown",
      "metadata": {
        "id": "pE62XfF4kgwJ"
      },
      "source": [
        "#### Describe your interpretation of the distribution of the measurements of nuclear area below. \n",
        "Based on what you see, would you choose different value ranges of particle sizes for counting? Explain why.\n"
      ]
    },
    {
      "cell_type": "markdown",
      "metadata": {
        "id": "y3P8s9F4V11k"
      },
      "source": [
        "I would use a distribution of 150-500, rather than 20-500. It is a left-tailed histogram, with a range of 150-500. The mean area is 340, and the SD of the area is 71. "
      ]
    }
  ],
  "metadata": {
    "colab": {
      "provenance": [],
      "include_colab_link": true
    },
    "kernelspec": {
      "display_name": "Python 3",
      "language": "python",
      "name": "python3"
    },
    "language_info": {
      "codemirror_mode": {
        "name": "ipython",
        "version": 3
      },
      "file_extension": ".py",
      "mimetype": "text/x-python",
      "name": "python",
      "nbconvert_exporter": "python",
      "pygments_lexer": "ipython3",
      "version": "3.8.5"
    },
    "gpuClass": "standard"
  },
  "nbformat": 4,
  "nbformat_minor": 0
}